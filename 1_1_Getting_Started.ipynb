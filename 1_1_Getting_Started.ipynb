{
  "nbformat": 4,
  "nbformat_minor": 0,
  "metadata": {
    "colab": {
      "name": "1_1_Getting_Started.ipynb",
      "provenance": [],
      "include_colab_link": true
    },
    "kernelspec": {
      "display_name": "Python 3",
      "language": "python",
      "name": "python3"
    },
    "language_info": {
      "codemirror_mode": {
        "name": "ipython",
        "version": 3
      },
      "file_extension": ".py",
      "mimetype": "text/x-python",
      "name": "python",
      "nbconvert_exporter": "python",
      "pygments_lexer": "ipython3",
      "version": "3.6.9"
    }
  },
  "cells": [
    {
      "cell_type": "markdown",
      "metadata": {
        "id": "view-in-github",
        "colab_type": "text"
      },
      "source": [
        "<a href=\"https://colab.research.google.com/github/vkamma/nlp_with_sparknlp/blob/main/1_1_Getting_Started.ipynb\" target=\"_parent\"><img src=\"https://colab.research.google.com/assets/colab-badge.svg\" alt=\"Open In Colab\"/></a>"
      ]
    },
    {
      "cell_type": "markdown",
      "metadata": {
        "id": "eDo1n_94sHCx"
      },
      "source": [
        "<div data-type=\"part\">\n",
        "<h1>Part 1: Basics</h1>\n",
        "\n",
        "<section data-type=\"chapter\">\n",
        "<h1>Chapter 1: Getting Started</h1>\n",
        "\n",
        "<section data-type=\"sect1\">\n",
        "<h1>Introduction</h1>\n",
        "\n",
        "<p>This book is about using Spark NLP to build natural language processing applications (NLP). Spark NLP is an NLP library built on top of Apache Spark.&nbsp;In this book I'll cover how to use Spark NLP, as well fundamental natural language processing topics. Hopefully, at the end of this book you'll have a new software tool for working with natural language, Spark NLP, and a suite of techniques and some understanding of why these techniques work.</p>\n",
        "<span style=\"letter-spacing: 0.18px;\">Let's begin by talking about the structure of this book. In the first part, we'll go over the technologies and techniques we'll be using with Spark NLP throughout this book. After that we'll talk about the building blocks of&nbsp;</span><em style=\"letter-spacing: 0.18px;\"><strong>N</strong>atural&nbsp;<strong>L</strong>anguage&nbsp;<strong>P</strong>rocessing</em><span style=\"letter-spacing: 0.18px;\">&nbsp;(NLP). Finally, we'll talk about NLP applications and sytems.</span>\n",
        "\n",
        "<p>When working on an application that requires NLP, there are three perspectives you should keep in mind: the software developer's perspective, the linguist's perspective, and the data scientist's perspective. The software developer's perspective focuses on what your application needs to do; this grounds the work in terms of the product you want to create. The linguist's perspective focuses on what it is in the data that you want to extract. The data scientist's perspective focuses on how you can extract the information you need from your data.</p>"
      ]
    },
    {
      "cell_type": "code",
      "metadata": {
        "colab": {
          "base_uri": "https://localhost:8080/"
        },
        "id": "Tuc23trY47eA",
        "outputId": "ab872ebe-4473-4154-ffe5-9da8107ffbd2"
      },
      "source": [
        "from google.colab import drive\n",
        "drive.mount('/content/drive')"
      ],
      "execution_count": 1,
      "outputs": [
        {
          "output_type": "stream",
          "text": [
            "Mounted at /content/drive\n"
          ],
          "name": "stdout"
        }
      ]
    },
    {
      "cell_type": "markdown",
      "metadata": {
        "id": "Nftkpjh9taxR"
      },
      "source": [
        "<p>Here is a more detailed overview of the book</p>\n",
        "\n",
        "<ul>\n",
        "\t<li>PART I: INTRODUCTION\n",
        "\t<ul>\n",
        "\t\t<li><em>Getting Started</em> covers setting up your environment so you can follow along with the examples and exercises in the book</li>\n",
        "\t\t<li><em>Natural Language Basics</em> is a survey of some of the linguistic concepts that help in understanding why NLP techniques work, and how to use NLP techniques get the information you need from language.</li>\n",
        "\t\t<li><em>NLP on Apache Spark</em> is an introduction to Apache Spark and, most germane, the Spark NLP library.</li>\n",
        "\t\t<li><em>Deep Learning Basics</em> is a survey of some of the deep learning concepts that we'll be using in this book. This book is <em>not </em>a tutorial on deep learning, but we'll try and explain these techniques when necessary.</li>\n",
        "\t</ul>\n",
        "\t</li>\n",
        "\t<li>PART II: BUILDING BLOCKS\n",
        "\t<ul>\n",
        "\t\t<li><em>Processing Words</em> covers the classic text processing techniques. Since NLP applications generally require a pipeline of transformations, understanding the early steps well is a necessity.</li>\n",
        "\t\t<li><em>Information Retrieval</em>&nbsp;covers the basic concepts of search engines. Not only is this a classic example of an application that uses text, but many NLP techniques used in other kinds of applications ultimately come from information retrieval.</li>\n",
        "\t\t<li><em>Classification and Regression</em> covers some well established techniques of using text features for classification and regression tasks.</li>\n",
        "\t\t<li><em>Sequence Modeling</em> introduces techniques used in modeling natural language text data as sequences. Since natural language is a sequence, these techniques are fundamental.</li>\n",
        "\t\t<li><em>Information Extraction</em> shows how we can extract facts and relationships from text.</li>\n",
        "\t\t<li><em>Topic Modeling</em> demonstrates techniques for finding topics in documents. Topic modeling is a great way to explore text.</li>\n",
        "\t\t<li><em>Embeddings</em> discusses one of the most popular modern techniques for creating features from text.</li>\n",
        "\t</ul>\n",
        "\t</li>\n",
        "\t<li>PART III: APPLICATIONS\n",
        "\t<ul>\n",
        "\t\t<li><em>Sentiment Analysis &amp; Emotion Detection</em> covers some basic applications that require identifying the sentiment of the author of a text, e.g. was a movie review positive or negative.</li>\n",
        "\t\t<li><em>Building Knowledge Graphs</em> explores creating an ontology, a collection of facts and relationships organized in a graph-like manner, from a corpus.</li>\n",
        "\t\t<li><em>Semantic Search</em> goes deeper into what can be done to improve a search engine. Improving is not just about improving the ranker, it's also about facilitating the user with features like facets.</li>\n",
        "\t\t<li><em>Conversational Chatbots</em> demonstrates how to create a chatbot - this is a fun and interesting application. These kinds of applications are becoming more and more popular.</li>\n",
        "\t\t<li><em>Object Character Recognition (OCR)</em> introduces converting text stored as images to text data. Not all texts are stored as text data. Handwriting and old texts are examples of texts we may receive as images. Sometimes, we also have to deal with non-handwritten text stored in images like PDF images and scans of printed documents.&nbsp;</li>\n",
        "\t</ul>\n",
        "\t</li>\n",
        "\t<li>PART IV: BUILDING NLP SYSTEMS\n",
        "\t<ul>\n",
        "\t\t<li><em>Supporting Multiple Languages</em> explores topics that an application creator should consider when preparing to work with multiple languages.</li>\n",
        "\t\t<li><em>Human Labeling: Collecting Quality Training Data</em> covers ways to use Humans to gather data about texts. Being able to efficiently use Humans to augment data can make an otherwise impossible project feasible.</li>\n",
        "\t\t<li><em>Training and Publishing NLP Models</em> covers creating models, Spark NLP pipelines and TensorFlow graphs, and publishing them for use in production.</li>\n",
        "\t\t<li><em>Scaling and Performance Optimization</em> discusses some of the performance concerns developers should keep in mind when designing a system that uses text.</li>\n",
        "\t\t<li><em>Operating NLP Systems in Production</em> covers quality and monitoring concerns that are unique to NLP applications.</li>\n",
        "\t</ul>\n",
        "\t</li>\n",
        "</ul>"
      ]
    },
    {
      "cell_type": "markdown",
      "metadata": {
        "id": "UcswudzcteLA"
      },
      "source": [
        "<h3>Other Tools</h3>\n",
        "\n",
        "<p>In addition to Spark NLP, Apache Spark, and TensorFlow, we'll make use of a number of other tools</p>\n",
        "\n",
        "<ul>\n",
        "\t<li><strong>Python</strong>&nbsp;is one of the most popular programming languages used in data science. Although Spark NLP is implemented in Scala, we will be demonstrating its use through Python. Learn more at&nbsp;<a href=\"https://www.python.org/\">https://www.python.org/</a></li>\n",
        "\t<li><strong>Anaconda </strong>is an open source distribution of Python (and R which we are not using). It is maintained by Anaconda, Inc. who also offer an enterprise platform, and training courses. We'll use the Anaconda package manager,&nbsp;<code>conda</code>, to create our environment. Learn more at <a href=\"https://www.anaconda.com/\">https://www.anaconda.com/</a></li>\n",
        "\t<li><strong>Jupyter Notebook</strong> is a tool for executing code in the browser. Jupyter Notebook also allows you to write markdown, and display visualizations all in the browser. In fact, this book was written as Jupyter Notebooks before being converted to a publishable format. Jupyter Notebook is maintained by Project Jupyter which is a non-profit dedicated to supporting interactive data science tools. Learn more at <a href=\"https://jupyter.org/\">https://jupyter.org/</a></li>\n",
        "\t<li><strong>Docker </strong>is a tool for easily creating virtual machines, often referred to as <em>containers</em>. We'll use Docker as an alternative installation tool to setting up conda. It is maintained by Docker, Inc. Learn more at <a href=\"https://www.docker.com/\">https://www.docker.com/</a></li>\n",
        "</ul>\n",
        "</section>\n"
      ]
    },
    {
      "cell_type": "markdown",
      "metadata": {
        "id": "SVWQy70yth_Y"
      },
      "source": [
        "<section data-type=\"sect1\">\n",
        "<h1>Setting up your environment</h1>\n",
        "\n",
        "<p>In this book, almost every chapter has exercises, so it is useful to make sure that the environment is working at the beginning. We'll use Jupyter notebooks in this book, and the kernel we'll use is the baseline Python 3.6 kernel. The instructions here use Continuum's Anaconda to set up a Python virtual environment.</p>\n",
        "\n",
        "<p>You can also use the `johnsnowlabs/spark-nlp-workshop` docker image for the necessary environment.</p>\n",
        "\n",
        "<p>These instructions were created from the set up process for Ubuntu. There are additional set up instructions online at the project's github page.</p>\n",
        "\n",
        "<section data-type=\"sect2\">\n",
        "<h2>Prerequisites</h2>\n",
        "\n",
        "<ol>\n",
        "\t<li>Anaconda\n",
        "\t<ul>\n",
        "\t\t<li>To set up Anaconda, follow the instructions at - <a href=\"https://docs.anaconda.com/anaconda/install/\">https://docs.anaconda.com/anaconda/install/</a></li>\n",
        "\t</ul>\n",
        "\t</li>\n",
        "\t<li>Apache Spark\n",
        "\t<ul>\n",
        "\t\t<li>To set up Apache Spark, follow the instructions at - <a href=\"https://spark.apache.org/docs/latest/\">https://spark.apache.org/docs/latest/</a></li>\n",
        "\t\t<li>Make sure that <code>SPARK_HOME</code> is set to the location of your Apache Spark installation.\n",
        "\t\t<ul>\n",
        "\t\t\t<li>If you are on Linux or macOS, you can put&nbsp;<code>export SPARK_HOME=\"/path/to/spark\"</code></li>\n",
        "\t\t\t<li>If you are on Windows, you can use System Properties to set an environment variable named <code>SPARK_HOME</code> to&nbsp;&nbsp;<code>\"/path/to/spark\"</code></li>\n",
        "\t\t</ul>\n",
        "\t\t</li>\n",
        "\t\t<li>This was written on Apache Spark 2.4</li>\n",
        "\t</ul>\n",
        "\t</li>\n",
        "</ol>\n",
        "\n",
        "<p><strong>Optional</strong>: Set up a password for your Jupyter notebook server - <a href=\"https://jupyter-notebook.readthedocs.io/en/stable/public_server.html#automatic-password-setup\">https://jupyter-notebook.readthedocs.io/en/stable/public_server.html#automatic-password-setup</a></p>\n",
        "</section>\n",
        "\n",
        "<section data-type=\"sect2\">\n",
        "<h2>Starting Apache Spark</h2>"
      ]
    },
    {
      "cell_type": "markdown",
      "metadata": {
        "id": "Rs5h9VdvtoNN"
      },
      "source": [
        "`$ echo $SPARK_HOME`"
      ]
    },
    {
      "cell_type": "markdown",
      "metadata": {
        "id": "IBvvevZetqXf"
      },
      "source": [
        "`/path/to/your/spark/installation`"
      ]
    },
    {
      "cell_type": "markdown",
      "metadata": {
        "id": "hEitx0bpttd_"
      },
      "source": [
        "`$ spark-shell`"
      ]
    },
    {
      "cell_type": "markdown",
      "metadata": {
        "id": "zJMzuYqItvqF"
      },
      "source": [
        "\n",
        "\n",
        "```\n",
        "Using Spark's default log4j profile: org/apache/spark/log4j-defaults.prope\n",
        "rties\n",
        "Setting default log level to \"WARN\".\n",
        "To adjust logging level use sc.setLogLevel(newLevel). For SparkR, use setL\n",
        "ogLevel(newLevel).\n",
        "...\n",
        "Spark context Web UI available at localhost:4040\n",
        "Spark context available as 'sc' (master = local[*], app id = ...).\n",
        "Spark session available as 'spark'.\n",
        "Welcome to\n",
        "      ____              __\n",
        "     / __/__  ___ _____/ /__\n",
        "    _\\ \\/ _ \\/ _ `/ __/  '_/\n",
        "   /___/ .__/\\_,_/_/ /_/\\_\\   version 2.3.2\n",
        "      /_/\n",
        "\n",
        "Using Scala version 2.11.8 (Java HotSpot(TM) 64-Bit Server VM, Java 1.8.0\n",
        "_102)\n",
        "Type in expressions to have them evaluated.\n",
        "Type :help for more information.\n",
        "\n",
        "scala>\n",
        "```\n",
        "\n"
      ]
    },
    {
      "cell_type": "markdown",
      "metadata": {
        "id": "CdJsfELqtzmr"
      },
      "source": [
        "<section data-type=\"sect2\">\n",
        "<h2>Checking out the code</h2>\n",
        "\n",
        "<ol>\n",
        "\t<li>Go to github repo for this project -&nbsp;<a href=\"https://github.com/alexander-n-thomas/spark-nlp-book\">https://github.com/alexander-n-thomas/spark-nlp-book</a></li>\n",
        "\t<li>Check out the code, run the following code examples in a terminal\n",
        "\t<ol>\n",
        "\t\t<li>Clone the repo\n",
        "\t\t<div class=\"highlight\">\n",
        "\t\t<pre data-code-language=\"bash\">\n",
        "git clone https://github.com/alexander-n-thomas/spark-nlp-book.git\n",
        "</pre>\n",
        "\t\t</div>\n",
        "\t\t</li>\n",
        "\t\t<li>Create the conda environment - this will take a while\n",
        "\t\t<div class=\"highlight\">\n",
        "\t\t<pre data-code-language=\"bash\">\n",
        "conda env create -f environment.yml\n",
        "</pre>\n",
        "\t\t</div>\n",
        "\t\t</li>\n",
        "\t\t<li>Activate the new environment\n",
        "\t\t<div class=\"highlight\">\n",
        "\t\t<pre data-code-language=\"bash\">\n",
        "<span class=\"nb\">source</span> activate spark-nlp-book\n",
        "</pre>\n",
        "\t\t</div>\n",
        "\t\t</li>\n",
        "\t\t<li>Create the kernel for this environment\n",
        "\t\t<div class=\"highlight\">\n",
        "\t\t<pre data-code-language=\"bash\">\n",
        "ipython kernel install --user --name<span class=\"o\">=</span>sparknlpbook\n",
        "</pre>\n",
        "\t\t</div>\n",
        "\t\t</li>\n",
        "\t\t<li>Launch the notebook server\n",
        "\t\t<div class=\"highlight\">\n",
        "\t\t<pre data-code-language=\"bash\">\n",
        "jupyter notebook\n",
        "</pre>\n",
        "\t\t</div>\n",
        "\t\t</li>\n",
        "\t\t<li>Go to your notebook page at&nbsp;<a href=\"http://localhost:8888/\">localhost:8888</a></li>\n",
        "\t</ol>\n",
        "\t</li>\n",
        "</ol>\n",
        "</section>\n",
        "</section>"
      ]
    },
    {
      "cell_type": "markdown",
      "metadata": {
        "id": "sjX3PueEt3_o"
      },
      "source": [
        "<section data-type=\"sect1\">\n",
        "<h2>Getting Familiar with Apache Spark</h2>\n",
        "\n",
        "<p>Now that we're all set up, let's start using Spark NLP! We will be using the <em>20 Newsgroups</em> data set from the University of California Irvine Machine Learning Repository. The data can be found at <a href=\"https://archive.ics.uci.edu/ml/datasets/Twenty+Newsgroups\">https://archive.ics.uci.edu/ml/datasets/Twenty+Newsgroups</a>. For this first example we use the mini_newsgroups data set found at <a href=\"https://archive.ics.uci.edu/ml/machine-learning-databases/20newsgroups-mld/mini_newsgroups.tar.gz\">https://archive.ics.uci.edu/ml/machine-learning-databases/20newsgroups-mld/mini_newsgroups.tar.gz</a>. Download this tar file and extract it into the data folder for this project.</p>"
      ]
    },
    {
      "cell_type": "code",
      "metadata": {
        "id": "HzgTx-7OuEnm"
      },
      "source": [
        "! mkdir -p data"
      ],
      "execution_count": 2,
      "outputs": []
    },
    {
      "cell_type": "code",
      "metadata": {
        "colab": {
          "base_uri": "https://localhost:8080/"
        },
        "id": "ERcegpNtDtSg",
        "outputId": "170782c9-6480-46d3-bb5c-e49368a4aa03"
      },
      "source": [
        "!sudo apt install openjdk-8-jdk"
      ],
      "execution_count": 3,
      "outputs": [
        {
          "output_type": "stream",
          "text": [
            "Reading package lists... Done\n",
            "Building dependency tree       \n",
            "Reading state information... Done\n",
            "The following additional packages will be installed:\n",
            "  fonts-dejavu-core fonts-dejavu-extra libatk-wrapper-java\n",
            "  libatk-wrapper-java-jni libgail-common libgail18 libgtk2.0-0 libgtk2.0-bin\n",
            "  libgtk2.0-common libxxf86dga1 openjdk-8-jdk-headless openjdk-8-jre\n",
            "  openjdk-8-jre-headless x11-utils\n",
            "Suggested packages:\n",
            "  gvfs openjdk-8-demo openjdk-8-source visualvm icedtea-8-plugin libnss-mdns\n",
            "  fonts-ipafont-gothic fonts-ipafont-mincho fonts-wqy-microhei\n",
            "  fonts-wqy-zenhei fonts-indic mesa-utils\n",
            "The following NEW packages will be installed:\n",
            "  fonts-dejavu-core fonts-dejavu-extra libatk-wrapper-java\n",
            "  libatk-wrapper-java-jni libgail-common libgail18 libgtk2.0-0 libgtk2.0-bin\n",
            "  libgtk2.0-common libxxf86dga1 openjdk-8-jdk openjdk-8-jdk-headless\n",
            "  openjdk-8-jre openjdk-8-jre-headless x11-utils\n",
            "0 upgraded, 15 newly installed, 0 to remove and 39 not upgraded.\n",
            "Need to get 43.5 MB of archives.\n",
            "After this operation, 163 MB of additional disk space will be used.\n",
            "Get:1 http://archive.ubuntu.com/ubuntu bionic/main amd64 libxxf86dga1 amd64 2:1.1.4-1 [13.7 kB]\n",
            "Get:2 http://archive.ubuntu.com/ubuntu bionic/main amd64 fonts-dejavu-core all 2.37-1 [1,041 kB]\n",
            "1% [2 fonts-dejavu-core 0 B/1,041 kB 0%]\u001b[0m^C\n"
          ],
          "name": "stdout"
        }
      ]
    },
    {
      "cell_type": "code",
      "metadata": {
        "colab": {
          "base_uri": "https://localhost:8080/"
        },
        "id": "dgBCSO9Fr-M5",
        "outputId": "78ae5519-e327-4b7c-c582-d8957057e51e"
      },
      "source": [
        "! wget https://archive.ics.uci.edu/ml/machine-learning-databases/20newsgroups-mld/mini_newsgroups.tar.gz"
      ],
      "execution_count": 4,
      "outputs": [
        {
          "output_type": "stream",
          "text": [
            "--2021-06-23 02:39:21--  https://archive.ics.uci.edu/ml/machine-learning-databases/20newsgroups-mld/mini_newsgroups.tar.gz\n",
            "Resolving archive.ics.uci.edu (archive.ics.uci.edu)... 128.195.10.252\n",
            "Connecting to archive.ics.uci.edu (archive.ics.uci.edu)|128.195.10.252|:443... connected.\n",
            "HTTP request sent, awaiting response... 200 OK\n",
            "Length: 1860687 (1.8M) [application/x-httpd-php]\n",
            "Saving to: ‘mini_newsgroups.tar.gz’\n",
            "\n",
            "mini_newsgroups.tar 100%[===================>]   1.77M  1.95MB/s    in 0.9s    \n",
            "\n",
            "2021-06-23 02:39:23 (1.95 MB/s) - ‘mini_newsgroups.tar.gz’ saved [1860687/1860687]\n",
            "\n"
          ],
          "name": "stdout"
        }
      ]
    },
    {
      "cell_type": "code",
      "metadata": {
        "id": "B7DAiInZuIsG"
      },
      "source": [
        "! tar xzf mini_newsgroups.tar.gz -C ./data/"
      ],
      "execution_count": 5,
      "outputs": []
    },
    {
      "cell_type": "code",
      "metadata": {
        "colab": {
          "base_uri": "https://localhost:8080/"
        },
        "id": "kFrFUZ-KuCjE",
        "outputId": "da10ec88-cee3-449a-d654-11c023509bc5"
      },
      "source": [
        "! ls ./data/mini_newsgroups/"
      ],
      "execution_count": 6,
      "outputs": [
        {
          "output_type": "stream",
          "text": [
            "alt.atheism\t\t  rec.autos\t      sci.space\n",
            "comp.graphics\t\t  rec.motorcycles     soc.religion.christian\n",
            "comp.os.ms-windows.misc   rec.sport.baseball  talk.politics.guns\n",
            "comp.sys.ibm.pc.hardware  rec.sport.hockey    talk.politics.mideast\n",
            "comp.sys.mac.hardware\t  sci.crypt\t      talk.politics.misc\n",
            "comp.windows.x\t\t  sci.electronics     talk.religion.misc\n",
            "misc.forsale\t\t  sci.med\n"
          ],
          "name": "stdout"
        }
      ]
    },
    {
      "cell_type": "code",
      "metadata": {
        "colab": {
          "base_uri": "https://localhost:8080/"
        },
        "id": "g4y88kwhusrK",
        "outputId": "e5b87265-bee0-4210-b3b7-4ee84925bcb4"
      },
      "source": [
        "!wget http://setup.johnsnowlabs.com/colab.sh -O - | bash\n",
        "# !bash colab.sh\n",
        "# -p is for pyspark\n",
        "# -s is for spark-nlp\n",
        "# !bash colab.sh -p 3.1.1 -s 3.0.1\n",
        "# by default they are set to the latest\n",
        "\n",
        "# Install Spark NLP Display for visualization\n",
        "# !pip install --ignore-installed spark-nlp-display"
      ],
      "execution_count": 7,
      "outputs": [
        {
          "output_type": "stream",
          "text": [
            "--2021-06-23 02:39:55--  http://setup.johnsnowlabs.com/colab.sh\n",
            "Resolving setup.johnsnowlabs.com (setup.johnsnowlabs.com)... 51.158.130.125\n",
            "Connecting to setup.johnsnowlabs.com (setup.johnsnowlabs.com)|51.158.130.125|:80... connected.\n",
            "HTTP request sent, awaiting response... 302 Moved Temporarily\n",
            "Location: https://raw.githubusercontent.com/JohnSnowLabs/spark-nlp/master/scripts/colab_setup.sh [following]\n",
            "--2021-06-23 02:39:56--  https://raw.githubusercontent.com/JohnSnowLabs/spark-nlp/master/scripts/colab_setup.sh\n",
            "Resolving raw.githubusercontent.com (raw.githubusercontent.com)... 185.199.108.133, 185.199.109.133, 185.199.110.133, ...\n",
            "Connecting to raw.githubusercontent.com (raw.githubusercontent.com)|185.199.108.133|:443... connected.\n",
            "HTTP request sent, awaiting response... 200 OK\n",
            "Length: 1608 (1.6K) [text/plain]\n",
            "Saving to: ‘STDOUT’\n",
            "\n",
            "-                   100%[===================>]   1.57K  --.-KB/s    in 0s      \n",
            "\n",
            "2021-06-23 02:39:56 (32.9 MB/s) - written to stdout [1608/1608]\n",
            "\n",
            "setup Colab for PySpark 3.0.2 and Spark NLP 3.1.0\n",
            "Hit:1 https://cloud.r-project.org/bin/linux/ubuntu bionic-cran40/ InRelease\n",
            "Ign:2 https://developer.download.nvidia.com/compute/cuda/repos/ubuntu1804/x86_64  InRelease\n",
            "Get:3 http://security.ubuntu.com/ubuntu bionic-security InRelease [88.7 kB]\n",
            "Ign:4 https://developer.download.nvidia.com/compute/machine-learning/repos/ubuntu1804/x86_64  InRelease\n",
            "Get:5 https://developer.download.nvidia.com/compute/cuda/repos/ubuntu1804/x86_64  Release [697 B]\n",
            "Hit:6 http://ppa.launchpad.net/c2d4u.team/c2d4u4.0+/ubuntu bionic InRelease\n",
            "Hit:7 https://developer.download.nvidia.com/compute/machine-learning/repos/ubuntu1804/x86_64  Release\n",
            "Get:8 https://developer.download.nvidia.com/compute/cuda/repos/ubuntu1804/x86_64  Release.gpg [836 B]\n",
            "Hit:9 http://archive.ubuntu.com/ubuntu bionic InRelease\n",
            "Hit:11 http://ppa.launchpad.net/cran/libgit2/ubuntu bionic InRelease\n",
            "Get:12 http://archive.ubuntu.com/ubuntu bionic-updates InRelease [88.7 kB]\n",
            "Ign:13 https://developer.download.nvidia.com/compute/cuda/repos/ubuntu1804/x86_64  Packages\n",
            "Get:13 https://developer.download.nvidia.com/compute/cuda/repos/ubuntu1804/x86_64  Packages [599 kB]\n",
            "Get:14 http://ppa.launchpad.net/deadsnakes/ppa/ubuntu bionic InRelease [15.9 kB]\n",
            "Get:15 http://archive.ubuntu.com/ubuntu bionic-backports InRelease [74.6 kB]\n",
            "Get:16 http://security.ubuntu.com/ubuntu bionic-security/main amd64 Packages [2,186 kB]\n",
            "Get:17 http://ppa.launchpad.net/graphics-drivers/ppa/ubuntu bionic InRelease [21.3 kB]\n",
            "Get:18 http://archive.ubuntu.com/ubuntu bionic-updates/main amd64 Packages [2,652 kB]\n",
            "Get:19 http://ppa.launchpad.net/deadsnakes/ppa/ubuntu bionic/main amd64 Packages [40.9 kB]\n",
            "Get:20 http://archive.ubuntu.com/ubuntu bionic-updates/universe amd64 Packages [2,188 kB]\n",
            "Get:21 http://ppa.launchpad.net/graphics-drivers/ppa/ubuntu bionic/main amd64 Packages [41.5 kB]\n",
            "Get:22 http://archive.ubuntu.com/ubuntu bionic-updates/restricted amd64 Packages [505 kB]\n",
            "Get:23 http://security.ubuntu.com/ubuntu bionic-security/universe amd64 Packages [1,415 kB]\n",
            "Fetched 9,917 kB in 5s (1,969 kB/s)\n",
            "Reading package lists... Done\n",
            "\u001b[K     |████████████████████████████████| 204.8MB 67kB/s \n",
            "\u001b[K     |████████████████████████████████| 51kB 5.7MB/s \n",
            "\u001b[K     |████████████████████████████████| 204kB 39.6MB/s \n",
            "\u001b[?25h  Building wheel for pyspark (setup.py) ... \u001b[?25l\u001b[?25hdone\n"
          ],
          "name": "stdout"
        }
      ]
    },
    {
      "cell_type": "markdown",
      "metadata": {
        "id": "qj7Y1qkfuRhX"
      },
      "source": [
        "<section data-type=\"sect2\">\n",
        "<h2>Starting Apache Spark with Spark NLP</h2>\n",
        "\n",
        "<p>There are many ways we can use Apache Spark from Jupyter notebooks. We could use a specialized kernel, but I generally prefer using a simple kernel. Fortunately, Spark NLP gives us an easy way to start up.</p>"
      ]
    },
    {
      "cell_type": "code",
      "metadata": {
        "id": "VnyyVW14oSWy"
      },
      "source": [
        "# !pip install sparknlp\n",
        "# !pip install pyspark\n",
        "# !sudo apt update\n",
        "# !sudo apt install openjdk-8-jdk\n",
        "# !sudo update-alternatives --config java\n",
        "# !java -version"
      ],
      "execution_count": 32,
      "outputs": []
    },
    {
      "cell_type": "code",
      "metadata": {
        "id": "TV1sDtRJuvbc"
      },
      "source": [
        "import sparknlp"
      ],
      "execution_count": 1,
      "outputs": []
    },
    {
      "cell_type": "code",
      "metadata": {
        "id": "uz-C2n0EuxgD"
      },
      "source": [
        "import pyspark\n",
        "from pyspark import SparkConf\n",
        "from pyspark.sql import SparkSession\n",
        "from pyspark.sql import functions as fun\n",
        "from pyspark.sql.types import *"
      ],
      "execution_count": 2,
      "outputs": []
    },
    {
      "cell_type": "code",
      "metadata": {
        "id": "up1WmOGzuyyL"
      },
      "source": [
        "%matplotlib inline\n",
        "import matplotlib.pyplot as plt"
      ],
      "execution_count": 3,
      "outputs": []
    },
    {
      "cell_type": "code",
      "metadata": {
        "id": "sK_RGMRJu1ei"
      },
      "source": [
        "packages = ','.join([\n",
        "    \"com.johnsnowlabs.nlp:spark-nlp_2.12:3.1.0\",\n",
        "])\n",
        "\n",
        "spark_conf = SparkConf()\n",
        "spark_conf = spark_conf.setAppName('spark-nlp-book-p1c1')\n",
        "spark_conf = spark_conf.setAppName('master[*]')\n",
        "spark_conf = spark_conf.set(\"spark.jars.packages\", packages)\n",
        "\n",
        "spark = SparkSession.builder.config(conf=spark_conf).getOrCreate()"
      ],
      "execution_count": 4,
      "outputs": []
    },
    {
      "cell_type": "markdown",
      "metadata": {
        "id": "gVt6KFbOvE2-"
      },
      "source": [
        "<section data-type=\"sect2\">\n",
        "<h2>Loading &amp;&nbsp;viewing data in Apache Spark</h2>\n",
        "\n",
        "<p>Let's look at how we can load data data with Apache Spark, and then some ways we can view the data.</p>"
      ]
    },
    {
      "cell_type": "code",
      "metadata": {
        "id": "wAY3MrravEDW"
      },
      "source": [
        "import os\n",
        "\n",
        "mini_newsgroups_path = os.path.join('data', 'mini_newsgroups', '*')"
      ],
      "execution_count": 5,
      "outputs": []
    },
    {
      "cell_type": "code",
      "metadata": {
        "id": "G9ioOnEHvIES"
      },
      "source": [
        "texts = spark.sparkContext.wholeTextFiles(mini_newsgroups_path)"
      ],
      "execution_count": 6,
      "outputs": []
    },
    {
      "cell_type": "code",
      "metadata": {
        "id": "zCuJ64fkvJQD"
      },
      "source": [
        "schema = StructType([\n",
        "    StructField('filename', StringType()),\n",
        "    StructField('text', StringType()),\n",
        "])\n",
        "texts_df = spark.createDataFrame(texts, schema)"
      ],
      "execution_count": 7,
      "outputs": []
    },
    {
      "cell_type": "code",
      "metadata": {
        "colab": {
          "base_uri": "https://localhost:8080/"
        },
        "id": "ML6wzPFIvKGi",
        "outputId": "c033b469-5075-4274-d536-4d305c83008d"
      },
      "source": [
        "texts_df.show()"
      ],
      "execution_count": 8,
      "outputs": [
        {
          "output_type": "stream",
          "text": [
            "+--------------------+--------------------+\n",
            "|            filename|                text|\n",
            "+--------------------+--------------------+\n",
            "|file:/content/dat...|Path: cantaloupe....|\n",
            "|file:/content/dat...|Newsgroups: sci.c...|\n",
            "|file:/content/dat...|Xref: cantaloupe....|\n",
            "|file:/content/dat...|Xref: cantaloupe....|\n",
            "|file:/content/dat...|Newsgroups: sci.c...|\n",
            "|file:/content/dat...|Path: cantaloupe....|\n",
            "|file:/content/dat...|Path: cantaloupe....|\n",
            "|file:/content/dat...|Xref: cantaloupe....|\n",
            "|file:/content/dat...|Newsgroups: sci.c...|\n",
            "|file:/content/dat...|Newsgroups: sci.c...|\n",
            "|file:/content/dat...|Xref: cantaloupe....|\n",
            "|file:/content/dat...|Newsgroups: sci.c...|\n",
            "|file:/content/dat...|Xref: cantaloupe....|\n",
            "|file:/content/dat...|Newsgroups: sci.c...|\n",
            "|file:/content/dat...|Path: cantaloupe....|\n",
            "|file:/content/dat...|Xref: cantaloupe....|\n",
            "|file:/content/dat...|Newsgroups: sci.c...|\n",
            "|file:/content/dat...|Xref: cantaloupe....|\n",
            "|file:/content/dat...|Newsgroups: sci.c...|\n",
            "|file:/content/dat...|Xref: cantaloupe....|\n",
            "+--------------------+--------------------+\n",
            "only showing top 20 rows\n",
            "\n"
          ],
          "name": "stdout"
        }
      ]
    },
    {
      "cell_type": "markdown",
      "metadata": {
        "id": "4jH71Oa2vMlM"
      },
      "source": [
        "<p>Looking at the data is important in any data science project. When working with structured data, especially numerical data, it is common to explore data with aggregates. This is necessary since data sets are large, and looking at a small number of examples can easily misrepresent the data. Natural language data complicates this. On one hand, Humans are really good at interpreting language, on the other, Humans are also really good at jumping to conclusions and making hasty generalizations. So we still have the problem of creating a representitive summary for large data sets. We'll talk about some techniques to do this in the chapters discussing topic modeling and embeddings.</p>\n",
        "\n",
        "<p>For now, let's talk about ways we can look at a small amount of data in&nbsp;<code>DataFrame</code>s. As you can see in the above code example, we can show the output of a&nbsp;<code>DataFrame</code>&nbsp;using&nbsp;<code>.show()</code>. Let's look at the arguments</p>\n",
        "\n",
        "<ol>\n",
        "\t<li><code>n</code>&nbsp;Number of rows to show.</li>\n",
        "\t<li><code>truncate</code>&nbsp;If set to True, truncate strings longer than 20 chars by default. If set to a number greater than one, truncates long strings to length&nbsp;<code>truncate</code>&nbsp;and align cells right.</li>\n",
        "\t<li><code>vertical</code>&nbsp;If set to True, print output rows vertically (one line per column value).</li>\n",
        "</ol>\n",
        "\n",
        "<p>Let's try using some of these arguments&nbsp;</p>"
      ]
    },
    {
      "cell_type": "code",
      "metadata": {
        "colab": {
          "base_uri": "https://localhost:8080/"
        },
        "id": "1AOKnfxGvK5C",
        "outputId": "ef5b11d9-36dc-4ce8-bdc9-902c04ff10bc"
      },
      "source": [
        "texts_df.show(n=5, truncate=100, vertical=True)"
      ],
      "execution_count": 9,
      "outputs": [
        {
          "output_type": "stream",
          "text": [
            "-RECORD 0--------------------------------------------------------------------------------------------------------\n",
            " filename | file:/content/data/mini_newsgroups/sci.crypt/15648                                                   \n",
            " text     | Path: cantaloupe.srv.cs.cmu.edu!magnesium.club.cc.cmu.edu!news.sei.cmu.edu!cis.ohio-state.edu!zap... \n",
            "-RECORD 1--------------------------------------------------------------------------------------------------------\n",
            " filename | file:/content/data/mini_newsgroups/sci.crypt/15371                                                   \n",
            " text     | Newsgroups: sci.crypt\n",
            "Path: cantaloupe.srv.cs.cmu.edu!das-news.harvard.edu!noc.near.net!howland.r... \n",
            "-RECORD 2--------------------------------------------------------------------------------------------------------\n",
            " filename | file:/content/data/mini_newsgroups/sci.crypt/15868                                                   \n",
            " text     | Xref: cantaloupe.srv.cs.cmu.edu comp.databases.oracle:4258 comp.security.misc:3550 sci.crypt:1586... \n",
            "-RECORD 3--------------------------------------------------------------------------------------------------------\n",
            " filename | file:/content/data/mini_newsgroups/sci.crypt/16068                                                   \n",
            " text     | Xref: cantaloupe.srv.cs.cmu.edu comp.org.eff.talk:17261 alt.privacy.clipper:142 sci.crypt:16068\n",
            "N... \n",
            "-RECORD 4--------------------------------------------------------------------------------------------------------\n",
            " filename | file:/content/data/mini_newsgroups/sci.crypt/15914                                                   \n",
            " text     | Newsgroups: sci.crypt\n",
            "From: mike@avon.demon.co.uk (\"Mike H.\")\n",
            "Path: cantaloupe.srv.cs.cmu.edu!mag... \n",
            "only showing top 5 rows\n",
            "\n"
          ],
          "name": "stdout"
        }
      ]
    },
    {
      "cell_type": "markdown",
      "metadata": {
        "id": "X1NUn_TTvswt"
      },
      "source": [
        "<p>The&nbsp;<code>.show()</code>&nbsp;method is good for a quick view of data, but if the data is complicated, doesn't work as well. In the Jupyter environment, there are some special integrations with Pandas, and Pandas&nbsp;<code>DataFrame</code>s are displayed a little nicer. Here's an example.</p>"
      ]
    },
    {
      "cell_type": "code",
      "metadata": {
        "colab": {
          "base_uri": "https://localhost:8080/",
          "height": 203
        },
        "id": "rX2iqojovPqr",
        "outputId": "75d4fc96-3393-463f-b52c-603bf2fbda8d"
      },
      "source": [
        "texts_df.limit(5).toPandas()"
      ],
      "execution_count": 10,
      "outputs": [
        {
          "output_type": "execute_result",
          "data": {
            "text/html": [
              "<div>\n",
              "<style scoped>\n",
              "    .dataframe tbody tr th:only-of-type {\n",
              "        vertical-align: middle;\n",
              "    }\n",
              "\n",
              "    .dataframe tbody tr th {\n",
              "        vertical-align: top;\n",
              "    }\n",
              "\n",
              "    .dataframe thead th {\n",
              "        text-align: right;\n",
              "    }\n",
              "</style>\n",
              "<table border=\"1\" class=\"dataframe\">\n",
              "  <thead>\n",
              "    <tr style=\"text-align: right;\">\n",
              "      <th></th>\n",
              "      <th>filename</th>\n",
              "      <th>text</th>\n",
              "    </tr>\n",
              "  </thead>\n",
              "  <tbody>\n",
              "    <tr>\n",
              "      <th>0</th>\n",
              "      <td>file:/content/data/mini_newsgroups/sci.crypt/1...</td>\n",
              "      <td>Path: cantaloupe.srv.cs.cmu.edu!magnesium.club...</td>\n",
              "    </tr>\n",
              "    <tr>\n",
              "      <th>1</th>\n",
              "      <td>file:/content/data/mini_newsgroups/sci.crypt/1...</td>\n",
              "      <td>Newsgroups: sci.crypt\\nPath: cantaloupe.srv.cs...</td>\n",
              "    </tr>\n",
              "    <tr>\n",
              "      <th>2</th>\n",
              "      <td>file:/content/data/mini_newsgroups/sci.crypt/1...</td>\n",
              "      <td>Xref: cantaloupe.srv.cs.cmu.edu comp.databases...</td>\n",
              "    </tr>\n",
              "    <tr>\n",
              "      <th>3</th>\n",
              "      <td>file:/content/data/mini_newsgroups/sci.crypt/1...</td>\n",
              "      <td>Xref: cantaloupe.srv.cs.cmu.edu comp.org.eff.t...</td>\n",
              "    </tr>\n",
              "    <tr>\n",
              "      <th>4</th>\n",
              "      <td>file:/content/data/mini_newsgroups/sci.crypt/1...</td>\n",
              "      <td>Newsgroups: sci.crypt\\nFrom: mike@avon.demon.c...</td>\n",
              "    </tr>\n",
              "  </tbody>\n",
              "</table>\n",
              "</div>"
            ],
            "text/plain": [
              "                                            filename                                               text\n",
              "0  file:/content/data/mini_newsgroups/sci.crypt/1...  Path: cantaloupe.srv.cs.cmu.edu!magnesium.club...\n",
              "1  file:/content/data/mini_newsgroups/sci.crypt/1...  Newsgroups: sci.crypt\\nPath: cantaloupe.srv.cs...\n",
              "2  file:/content/data/mini_newsgroups/sci.crypt/1...  Xref: cantaloupe.srv.cs.cmu.edu comp.databases...\n",
              "3  file:/content/data/mini_newsgroups/sci.crypt/1...  Xref: cantaloupe.srv.cs.cmu.edu comp.org.eff.t...\n",
              "4  file:/content/data/mini_newsgroups/sci.crypt/1...  Newsgroups: sci.crypt\\nFrom: mike@avon.demon.c..."
            ]
          },
          "metadata": {
            "tags": []
          },
          "execution_count": 10
        }
      ]
    },
    {
      "cell_type": "markdown",
      "metadata": {
        "id": "mnLJ0R87vTrC"
      },
      "source": [
        "<p>Notice the use of&nbsp;<code>.limit()</code>. The&nbsp;<code>.toPandas()</code>&nbsp;method pulls the Spark&nbsp;<code>DataFrame</code>&nbsp;into memory to create a Pandas&nbsp;<code>DataFrame</code>. Converting to Pandas can also be useful for using tools available in the Python, since Pandas&nbsp;<code>DataFrame</code>&nbsp; is widely supported in the Python ecosystem.</p>\n",
        "\n",
        "<p>For other types of visualizations, we'll primarily use the Python libraries matplotlib and seaborn. In order to use these libraries we will need to create Pandas&nbsp;<code>DataFrame</code>s, so we will either aggregate or sample Spark&nbsp;<code>DataFrame</code>s into a manageable size.</p>\n",
        "</section>\n",
        "</section>\n",
        "\n",
        "<section data-type=\"sect1\">\n",
        "<h1>Hello World with Spark NLP</h1>\n",
        "\n",
        "<p>We have some data, so let's use Spark NLP to process it. First, let's extract the newsgroup name from the filename. We can see newsgroup as the last folder in the filename.</p>"
      ]
    },
    {
      "cell_type": "code",
      "metadata": {
        "id": "IVvEUkfNvRCa"
      },
      "source": [
        "texts_df = texts_df.withColumn(\n",
        "    'newsgroup', \n",
        "    fun.split('filename', '/').getItem(4)\n",
        ")"
      ],
      "execution_count": 11,
      "outputs": []
    },
    {
      "cell_type": "code",
      "metadata": {
        "colab": {
          "base_uri": "https://localhost:8080/",
          "height": 203
        },
        "id": "K6j8wD41vVCJ",
        "outputId": "0a2724af-adc5-44f4-d948-64d8eddd46e6"
      },
      "source": [
        "texts_df.limit(5).toPandas()"
      ],
      "execution_count": 12,
      "outputs": [
        {
          "output_type": "execute_result",
          "data": {
            "text/html": [
              "<div>\n",
              "<style scoped>\n",
              "    .dataframe tbody tr th:only-of-type {\n",
              "        vertical-align: middle;\n",
              "    }\n",
              "\n",
              "    .dataframe tbody tr th {\n",
              "        vertical-align: top;\n",
              "    }\n",
              "\n",
              "    .dataframe thead th {\n",
              "        text-align: right;\n",
              "    }\n",
              "</style>\n",
              "<table border=\"1\" class=\"dataframe\">\n",
              "  <thead>\n",
              "    <tr style=\"text-align: right;\">\n",
              "      <th></th>\n",
              "      <th>filename</th>\n",
              "      <th>text</th>\n",
              "      <th>newsgroup</th>\n",
              "    </tr>\n",
              "  </thead>\n",
              "  <tbody>\n",
              "    <tr>\n",
              "      <th>0</th>\n",
              "      <td>file:/content/data/mini_newsgroups/sci.crypt/1...</td>\n",
              "      <td>Path: cantaloupe.srv.cs.cmu.edu!magnesium.club...</td>\n",
              "      <td>sci.crypt</td>\n",
              "    </tr>\n",
              "    <tr>\n",
              "      <th>1</th>\n",
              "      <td>file:/content/data/mini_newsgroups/sci.crypt/1...</td>\n",
              "      <td>Newsgroups: sci.crypt\\nPath: cantaloupe.srv.cs...</td>\n",
              "      <td>sci.crypt</td>\n",
              "    </tr>\n",
              "    <tr>\n",
              "      <th>2</th>\n",
              "      <td>file:/content/data/mini_newsgroups/sci.crypt/1...</td>\n",
              "      <td>Xref: cantaloupe.srv.cs.cmu.edu comp.databases...</td>\n",
              "      <td>sci.crypt</td>\n",
              "    </tr>\n",
              "    <tr>\n",
              "      <th>3</th>\n",
              "      <td>file:/content/data/mini_newsgroups/sci.crypt/1...</td>\n",
              "      <td>Xref: cantaloupe.srv.cs.cmu.edu comp.org.eff.t...</td>\n",
              "      <td>sci.crypt</td>\n",
              "    </tr>\n",
              "    <tr>\n",
              "      <th>4</th>\n",
              "      <td>file:/content/data/mini_newsgroups/sci.crypt/1...</td>\n",
              "      <td>Newsgroups: sci.crypt\\nFrom: mike@avon.demon.c...</td>\n",
              "      <td>sci.crypt</td>\n",
              "    </tr>\n",
              "  </tbody>\n",
              "</table>\n",
              "</div>"
            ],
            "text/plain": [
              "                                            filename  ...  newsgroup\n",
              "0  file:/content/data/mini_newsgroups/sci.crypt/1...  ...  sci.crypt\n",
              "1  file:/content/data/mini_newsgroups/sci.crypt/1...  ...  sci.crypt\n",
              "2  file:/content/data/mini_newsgroups/sci.crypt/1...  ...  sci.crypt\n",
              "3  file:/content/data/mini_newsgroups/sci.crypt/1...  ...  sci.crypt\n",
              "4  file:/content/data/mini_newsgroups/sci.crypt/1...  ...  sci.crypt\n",
              "\n",
              "[5 rows x 3 columns]"
            ]
          },
          "metadata": {
            "tags": []
          },
          "execution_count": 12
        }
      ]
    },
    {
      "cell_type": "code",
      "metadata": {
        "colab": {
          "base_uri": "https://localhost:8080/",
          "height": 665
        },
        "id": "eBoZeLSDuP7j",
        "outputId": "35cb6c81-12a8-45e0-b375-0fcf03514381"
      },
      "source": [
        "newsgroup_counts = texts_df.groupBy('newsgroup').count().toPandas()\n",
        "newsgroup_counts"
      ],
      "execution_count": 13,
      "outputs": [
        {
          "output_type": "execute_result",
          "data": {
            "text/html": [
              "<div>\n",
              "<style scoped>\n",
              "    .dataframe tbody tr th:only-of-type {\n",
              "        vertical-align: middle;\n",
              "    }\n",
              "\n",
              "    .dataframe tbody tr th {\n",
              "        vertical-align: top;\n",
              "    }\n",
              "\n",
              "    .dataframe thead th {\n",
              "        text-align: right;\n",
              "    }\n",
              "</style>\n",
              "<table border=\"1\" class=\"dataframe\">\n",
              "  <thead>\n",
              "    <tr style=\"text-align: right;\">\n",
              "      <th></th>\n",
              "      <th>newsgroup</th>\n",
              "      <th>count</th>\n",
              "    </tr>\n",
              "  </thead>\n",
              "  <tbody>\n",
              "    <tr>\n",
              "      <th>0</th>\n",
              "      <td>comp.windows.x</td>\n",
              "      <td>100</td>\n",
              "    </tr>\n",
              "    <tr>\n",
              "      <th>1</th>\n",
              "      <td>misc.forsale</td>\n",
              "      <td>100</td>\n",
              "    </tr>\n",
              "    <tr>\n",
              "      <th>2</th>\n",
              "      <td>rec.sport.hockey</td>\n",
              "      <td>100</td>\n",
              "    </tr>\n",
              "    <tr>\n",
              "      <th>3</th>\n",
              "      <td>rec.sport.baseball</td>\n",
              "      <td>100</td>\n",
              "    </tr>\n",
              "    <tr>\n",
              "      <th>4</th>\n",
              "      <td>talk.politics.guns</td>\n",
              "      <td>100</td>\n",
              "    </tr>\n",
              "    <tr>\n",
              "      <th>5</th>\n",
              "      <td>comp.os.ms-windows.misc</td>\n",
              "      <td>100</td>\n",
              "    </tr>\n",
              "    <tr>\n",
              "      <th>6</th>\n",
              "      <td>talk.politics.misc</td>\n",
              "      <td>100</td>\n",
              "    </tr>\n",
              "    <tr>\n",
              "      <th>7</th>\n",
              "      <td>comp.sys.ibm.pc.hardware</td>\n",
              "      <td>100</td>\n",
              "    </tr>\n",
              "    <tr>\n",
              "      <th>8</th>\n",
              "      <td>comp.graphics</td>\n",
              "      <td>100</td>\n",
              "    </tr>\n",
              "    <tr>\n",
              "      <th>9</th>\n",
              "      <td>soc.religion.christian</td>\n",
              "      <td>100</td>\n",
              "    </tr>\n",
              "    <tr>\n",
              "      <th>10</th>\n",
              "      <td>comp.sys.mac.hardware</td>\n",
              "      <td>100</td>\n",
              "    </tr>\n",
              "    <tr>\n",
              "      <th>11</th>\n",
              "      <td>talk.religion.misc</td>\n",
              "      <td>100</td>\n",
              "    </tr>\n",
              "    <tr>\n",
              "      <th>12</th>\n",
              "      <td>talk.politics.mideast</td>\n",
              "      <td>100</td>\n",
              "    </tr>\n",
              "    <tr>\n",
              "      <th>13</th>\n",
              "      <td>rec.motorcycles</td>\n",
              "      <td>100</td>\n",
              "    </tr>\n",
              "    <tr>\n",
              "      <th>14</th>\n",
              "      <td>rec.autos</td>\n",
              "      <td>100</td>\n",
              "    </tr>\n",
              "    <tr>\n",
              "      <th>15</th>\n",
              "      <td>alt.atheism</td>\n",
              "      <td>100</td>\n",
              "    </tr>\n",
              "    <tr>\n",
              "      <th>16</th>\n",
              "      <td>sci.electronics</td>\n",
              "      <td>100</td>\n",
              "    </tr>\n",
              "    <tr>\n",
              "      <th>17</th>\n",
              "      <td>sci.space</td>\n",
              "      <td>100</td>\n",
              "    </tr>\n",
              "    <tr>\n",
              "      <th>18</th>\n",
              "      <td>sci.med</td>\n",
              "      <td>100</td>\n",
              "    </tr>\n",
              "    <tr>\n",
              "      <th>19</th>\n",
              "      <td>sci.crypt</td>\n",
              "      <td>100</td>\n",
              "    </tr>\n",
              "  </tbody>\n",
              "</table>\n",
              "</div>"
            ],
            "text/plain": [
              "                   newsgroup  count\n",
              "0             comp.windows.x    100\n",
              "1               misc.forsale    100\n",
              "2           rec.sport.hockey    100\n",
              "3         rec.sport.baseball    100\n",
              "4         talk.politics.guns    100\n",
              "5    comp.os.ms-windows.misc    100\n",
              "6         talk.politics.misc    100\n",
              "7   comp.sys.ibm.pc.hardware    100\n",
              "8              comp.graphics    100\n",
              "9     soc.religion.christian    100\n",
              "10     comp.sys.mac.hardware    100\n",
              "11        talk.religion.misc    100\n",
              "12     talk.politics.mideast    100\n",
              "13           rec.motorcycles    100\n",
              "14                 rec.autos    100\n",
              "15               alt.atheism    100\n",
              "16           sci.electronics    100\n",
              "17                 sci.space    100\n",
              "18                   sci.med    100\n",
              "19                 sci.crypt    100"
            ]
          },
          "metadata": {
            "tags": []
          },
          "execution_count": 13
        }
      ]
    },
    {
      "cell_type": "code",
      "metadata": {
        "colab": {
          "base_uri": "https://localhost:8080/",
          "height": 444
        },
        "id": "Ai5EGb2Gv0zg",
        "outputId": "431df063-90c7-4074-de97-ce33dfda09d2"
      },
      "source": [
        "newsgroup_counts.plot(kind='bar', figsize=(10, 5))\n",
        "plt.xticks(\n",
        "    ticks=range(len(newsgroup_counts)), \n",
        "    labels=newsgroup_counts['newsgroup']\n",
        ")\n",
        "plt.show()"
      ],
      "execution_count": 14,
      "outputs": [
        {
          "output_type": "display_data",
          "data": {
            "image/png": "[encoded data removed]",
            "text/plain": [
              "<Figure size 720x360 with 1 Axes>"
            ]
          },
          "metadata": {
            "tags": [],
            "needs_background": "light"
          }
        }
      ]
    },
    {
      "cell_type": "markdown",
      "metadata": {
        "id": "Un6_jhrFv5pp"
      },
      "source": [
        "<p><a class=\"list-padding\" href=\"https://atlas.oreilly.com/alex_thomas/nlp-with-spark-nlp/editor/master/images/1.1_newsgroup_counts.jpg\">&nbsp; 1.1_newsgroup_counts.jpg</a></p>\n",
        "\n",
        "<p>Because the mini_newsgroups data set is a subset of the 20Newsgroups data set, we have the same number of documents in each newsgroup. Now, let's use the&nbsp;<a href=\"https://nlp.johnsnowlabs.com/components.html#BasicPipeline\"><code>BasicPipeline</code></a></p>"
      ]
    },
    {
      "cell_type": "code",
      "metadata": {
        "id": "7fl7XCoDv201"
      },
      "source": [
        "from sparknlp.pretrained import PretrainedPipeline"
      ],
      "execution_count": 15,
      "outputs": []
    },
    {
      "cell_type": "markdown",
      "metadata": {
        "id": "hMY8nXAfv8JE"
      },
      "source": [
        "<p>The&nbsp;<code>explain_document_ml</code>&nbsp;is a pretrained pipeline that we can use to process text with a simple pipeline that performs basic processing steps. In order to undetstand what the&nbsp;<code>explain_document_ml</code>&nbsp;is doing, it is necessary to give a brief description of what the annotators are. An annotator is a representation of a specific NLP technique. We will go more in depth when we get to the&nbsp;<em>NLP on Apache Spark</em>&nbsp;chapter.</p>\n",
        "\n",
        "<p><span style=\"letter-spacing: 0.01em;\">The annotators work on a document which is the text, associated metadata, and any previously discovered annotations. This design helps annotators re-use work of previous annotators. The downside, is that it is more complex than libraries like NLTK which are un-coupled collections of NLP functions.</span></p>\n",
        "\n",
        "<p>The&nbsp;<code>explain_document_ml</code>&nbsp;has one&nbsp;<code>Transformer</code>&nbsp;and four annotators</p>\n",
        "\n",
        "<ol>\n",
        "\t<li><code>DocumentAssembler</code>: a&nbsp;<code>Transformer</code>&nbsp;that creates a column that contains documents</li>\n",
        "\t<li><code>Sentence Segmenter</code>: an annotator that produces the sentences of the document</li>\n",
        "\t<li><code>Tokenizer</code>: an annotator that produces the tokens of the sentences</li>\n",
        "\t<li><code>SpellChecker</code>: an annotator that produces the spelling-corrected tokens</li>\n",
        "\t<li><code>Stemmer</code>: an annotator that produces the stems of the tokens</li>\n",
        "\t<li><code>Lemmatizer</code>: an annotator that produces the lemmas of the tokens.</li>\n",
        "\t<li><code>POS Tagger</code>: an annotator that produces the parts of speech of the associated tokens</li>\n",
        "</ol>\n",
        "\n",
        "<p>There are some new terms introduced here that we'll discuss more in upcoming chapters.</p>"
      ]
    },
    {
      "cell_type": "code",
      "metadata": {
        "colab": {
          "base_uri": "https://localhost:8080/"
        },
        "id": "Gvi3B14Zv7Tz",
        "outputId": "479a77c3-edce-4dd0-89cd-75709ff5101d"
      },
      "source": [
        "pipeline = PretrainedPipeline('explain_document_ml', lang='en')"
      ],
      "execution_count": 16,
      "outputs": [
        {
          "output_type": "stream",
          "text": [
            "explain_document_ml download started this may take some time.\n",
            "Approx size to download 9.1 MB\n",
            "[OK!]\n"
          ],
          "name": "stdout"
        }
      ]
    },
    {
      "cell_type": "markdown",
      "metadata": {
        "id": "_RV3MO_awABd"
      },
      "source": [
        "<p>The&nbsp;<code>.annotate()</code>&nbsp;method of the&nbsp;<code>BasicPipeline</code>&nbsp;can be used to annotate singular strings, as well as&nbsp;<code>DataFrame</code>s. Let's look at what it produces.</p>"
      ]
    },
    {
      "cell_type": "code",
      "metadata": {
        "colab": {
          "base_uri": "https://localhost:8080/"
        },
        "id": "k_s-B0Bhv-f5",
        "outputId": "9ca13216-5b0f-48d8-a5c6-fa7dec212e3e"
      },
      "source": [
        "pipeline.annotate('Hellu wrold!')"
      ],
      "execution_count": 17,
      "outputs": [
        {
          "output_type": "execute_result",
          "data": {
            "text/plain": [
              "{'document': ['Hellu wrold!'],\n",
              " 'lemmas': ['Hello', 'world', '!'],\n",
              " 'pos': ['NNP', 'NN', '.'],\n",
              " 'sentence': ['Hellu wrold!'],\n",
              " 'spell': ['Hello', 'world', '!'],\n",
              " 'stems': ['hello', 'world', '!'],\n",
              " 'token': ['Hellu', 'wrold', '!']}"
            ]
          },
          "metadata": {
            "tags": []
          },
          "execution_count": 17
        }
      ]
    },
    {
      "cell_type": "markdown",
      "metadata": {
        "id": "hokzQ2P6wHJu"
      },
      "source": [
        "<p>This a good amount of additional information. This brings up something that you will want to keep in mind - annotations can produce a lot of extra data. Let's look at the schema of the raw data.</p>"
      ]
    },
    {
      "cell_type": "code",
      "metadata": {
        "colab": {
          "base_uri": "https://localhost:8080/"
        },
        "id": "wycwTIi9wBbA",
        "outputId": "43e4105e-8224-43f3-ea3f-938748f9ab25"
      },
      "source": [
        "texts_df.printSchema()"
      ],
      "execution_count": 18,
      "outputs": [
        {
          "output_type": "stream",
          "text": [
            "root\n",
            " |-- filename: string (nullable = true)\n",
            " |-- text: string (nullable = true)\n",
            " |-- newsgroup: string (nullable = true)\n",
            "\n"
          ],
          "name": "stdout"
        }
      ]
    },
    {
      "cell_type": "markdown",
      "metadata": {
        "id": "b_wIrzugwKyn"
      },
      "source": [
        "<p>Now, let's annotate our&nbsp;<code>DataFrame</code>&nbsp;and look at the new schema.</p>"
      ]
    },
    {
      "cell_type": "code",
      "metadata": {
        "id": "1AD-rGMgwcqS"
      },
      "source": [
        "procd_texts_df = pipeline.annotate(texts_df, 'text')"
      ],
      "execution_count": 19,
      "outputs": []
    },
    {
      "cell_type": "code",
      "metadata": {
        "colab": {
          "base_uri": "https://localhost:8080/"
        },
        "id": "VedrnReJwdaA",
        "outputId": "c520de05-154e-4362-f2ad-d48cd4c06349"
      },
      "source": [
        "procd_texts_df.printSchema()"
      ],
      "execution_count": 20,
      "outputs": [
        {
          "output_type": "stream",
          "text": [
            "root\n",
            " |-- filename: string (nullable = true)\n",
            " |-- text: string (nullable = true)\n",
            " |-- newsgroup: string (nullable = true)\n",
            " |-- document: array (nullable = true)\n",
            " |    |-- element: struct (containsNull = true)\n",
            " |    |    |-- annotatorType: string (nullable = true)\n",
            " |    |    |-- begin: integer (nullable = false)\n",
            " |    |    |-- end: integer (nullable = false)\n",
            " |    |    |-- result: string (nullable = true)\n",
            " |    |    |-- metadata: map (nullable = true)\n",
            " |    |    |    |-- key: string\n",
            " |    |    |    |-- value: string (valueContainsNull = true)\n",
            " |    |    |-- embeddings: array (nullable = true)\n",
            " |    |    |    |-- element: float (containsNull = false)\n",
            " |-- sentence: array (nullable = true)\n",
            " |    |-- element: struct (containsNull = true)\n",
            " |    |    |-- annotatorType: string (nullable = true)\n",
            " |    |    |-- begin: integer (nullable = false)\n",
            " |    |    |-- end: integer (nullable = false)\n",
            " |    |    |-- result: string (nullable = true)\n",
            " |    |    |-- metadata: map (nullable = true)\n",
            " |    |    |    |-- key: string\n",
            " |    |    |    |-- value: string (valueContainsNull = true)\n",
            " |    |    |-- embeddings: array (nullable = true)\n",
            " |    |    |    |-- element: float (containsNull = false)\n",
            " |-- token: array (nullable = true)\n",
            " |    |-- element: struct (containsNull = true)\n",
            " |    |    |-- annotatorType: string (nullable = true)\n",
            " |    |    |-- begin: integer (nullable = false)\n",
            " |    |    |-- end: integer (nullable = false)\n",
            " |    |    |-- result: string (nullable = true)\n",
            " |    |    |-- metadata: map (nullable = true)\n",
            " |    |    |    |-- key: string\n",
            " |    |    |    |-- value: string (valueContainsNull = true)\n",
            " |    |    |-- embeddings: array (nullable = true)\n",
            " |    |    |    |-- element: float (containsNull = false)\n",
            " |-- spell: array (nullable = true)\n",
            " |    |-- element: struct (containsNull = true)\n",
            " |    |    |-- annotatorType: string (nullable = true)\n",
            " |    |    |-- begin: integer (nullable = false)\n",
            " |    |    |-- end: integer (nullable = false)\n",
            " |    |    |-- result: string (nullable = true)\n",
            " |    |    |-- metadata: map (nullable = true)\n",
            " |    |    |    |-- key: string\n",
            " |    |    |    |-- value: string (valueContainsNull = true)\n",
            " |    |    |-- embeddings: array (nullable = true)\n",
            " |    |    |    |-- element: float (containsNull = false)\n",
            " |-- lemmas: array (nullable = true)\n",
            " |    |-- element: struct (containsNull = true)\n",
            " |    |    |-- annotatorType: string (nullable = true)\n",
            " |    |    |-- begin: integer (nullable = false)\n",
            " |    |    |-- end: integer (nullable = false)\n",
            " |    |    |-- result: string (nullable = true)\n",
            " |    |    |-- metadata: map (nullable = true)\n",
            " |    |    |    |-- key: string\n",
            " |    |    |    |-- value: string (valueContainsNull = true)\n",
            " |    |    |-- embeddings: array (nullable = true)\n",
            " |    |    |    |-- element: float (containsNull = false)\n",
            " |-- stems: array (nullable = true)\n",
            " |    |-- element: struct (containsNull = true)\n",
            " |    |    |-- annotatorType: string (nullable = true)\n",
            " |    |    |-- begin: integer (nullable = false)\n",
            " |    |    |-- end: integer (nullable = false)\n",
            " |    |    |-- result: string (nullable = true)\n",
            " |    |    |-- metadata: map (nullable = true)\n",
            " |    |    |    |-- key: string\n",
            " |    |    |    |-- value: string (valueContainsNull = true)\n",
            " |    |    |-- embeddings: array (nullable = true)\n",
            " |    |    |    |-- element: float (containsNull = false)\n",
            " |-- pos: array (nullable = true)\n",
            " |    |-- element: struct (containsNull = true)\n",
            " |    |    |-- annotatorType: string (nullable = true)\n",
            " |    |    |-- begin: integer (nullable = false)\n",
            " |    |    |-- end: integer (nullable = false)\n",
            " |    |    |-- result: string (nullable = true)\n",
            " |    |    |-- metadata: map (nullable = true)\n",
            " |    |    |    |-- key: string\n",
            " |    |    |    |-- value: string (valueContainsNull = true)\n",
            " |    |    |-- embeddings: array (nullable = true)\n",
            " |    |    |    |-- element: float (containsNull = false)\n",
            "\n"
          ],
          "name": "stdout"
        }
      ]
    },
    {
      "cell_type": "markdown",
      "metadata": {
        "id": "LT0pA0RrwPUq"
      },
      "source": [
        "<p>That is quite complex! To break it down, let's look at the token column. It has an&nbsp;<code>Array</code>&nbsp;type column, and each element is a&nbsp;<code>Struct</code>. Each element has the following</p>\n",
        "\n",
        "<ul>\n",
        "\t<li><code>annotatorType</code>: the type of annotation</li>\n",
        "\t<li><code>begin</code>: the starting character position of the annotation</li>\n",
        "\t<li><code>end</code>: the character position after the end of the annotation</li>\n",
        "\t<li><code>result</code>: the output of the annotator</li>\n",
        "\t<li><code>metadata</code>: a&nbsp;<code>Map</code>&nbsp;from&nbsp;<code>String</code>&nbsp;to&nbsp;<code>String</code>&nbsp;containing additional, potentially helpful, information about the annotation</li>\n",
        "</ul>\n",
        "\n",
        "<p>Let's look at some of the data using&nbsp;<code>.show()</code></p>"
      ]
    },
    {
      "cell_type": "code",
      "metadata": {
        "colab": {
          "base_uri": "https://localhost:8080/"
        },
        "id": "xuIG7PyFwIqK",
        "outputId": "e7501e0c-18ea-4b9e-99e2-4aafd7253810"
      },
      "source": [
        "procd_texts_df.show(n=2)"
      ],
      "execution_count": 21,
      "outputs": [
        {
          "output_type": "stream",
          "text": [
            "+--------------------+--------------------+---------+--------------------+--------------------+--------------------+--------------------+--------------------+--------------------+--------------------+\n",
            "|            filename|                text|newsgroup|            document|            sentence|               token|               spell|              lemmas|               stems|                 pos|\n",
            "+--------------------+--------------------+---------+--------------------+--------------------+--------------------+--------------------+--------------------+--------------------+--------------------+\n",
            "|file:/content/dat...|Path: cantaloupe....|sci.crypt|[[document, 0, 20...|[[document, 0, 65...|[[token, 0, 3, Pa...|[[token, 0, 3, Pa...|[[token, 0, 3, Pa...|[[token, 0, 3, pa...|[[pos, 0, 3, NNP,...|\n",
            "|file:/content/dat...|Newsgroups: sci.c...|sci.crypt|[[document, 0, 10...|[[document, 0, 68...|[[token, 0, 9, Ne...|[[token, 0, 9, Ne...|[[token, 0, 9, Ne...|[[token, 0, 9, ne...|[[pos, 0, 9, NNP,...|\n",
            "+--------------------+--------------------+---------+--------------------+--------------------+--------------------+--------------------+--------------------+--------------------+--------------------+\n",
            "only showing top 2 rows\n",
            "\n"
          ],
          "name": "stdout"
        }
      ]
    },
    {
      "cell_type": "markdown",
      "metadata": {
        "id": "dUzEnugUwur5"
      },
      "source": [
        "<p>This is not very readable. Not only is the automatic formatting doing poorly with this data, but we can hardly see our annotations. Let's try using some other arguments.</p>"
      ]
    },
    {
      "cell_type": "code",
      "metadata": {
        "colab": {
          "base_uri": "https://localhost:8080/"
        },
        "id": "F07fzZ-Nwh3e",
        "outputId": "2860cfef-0ca0-45cf-eeb2-060c4d1a4038"
      },
      "source": [
        "procd_texts_df.show(n=2, truncate=100, vertical=True)"
      ],
      "execution_count": 22,
      "outputs": [
        {
          "output_type": "stream",
          "text": [
            "-RECORD 0---------------------------------------------------------------------------------------------------------\n",
            " filename  | file:/content/data/mini_newsgroups/sci.crypt/15648                                                   \n",
            " text      | Path: cantaloupe.srv.cs.cmu.edu!magnesium.club.cc.cmu.edu!news.sei.cmu.edu!cis.ohio-state.edu!zap... \n",
            " newsgroup | sci.crypt                                                                                            \n",
            " document  | [[document, 0, 2013, Path: cantaloupe.srv.cs.cmu.edu!magnesium.club.cc.cmu.edu!news.sei.cmu.edu!c... \n",
            " sentence  | [[document, 0, 650, Path: cantaloupe.srv.cs.cmu.edu!magnesium.club.cc.cmu.edu!news.sei.cmu.edu!ci... \n",
            " token     | [[token, 0, 3, Path, [sentence -> 0], []], [token, 4, 4, :, [sentence -> 0], []], [token, 6, 207,... \n",
            " spell     | [[token, 0, 3, Path, [confidence -> 1.0, sentence -> 0], []], [token, 4, 4, :, [confidence -> 0.0... \n",
            " lemmas    | [[token, 0, 3, Path, [confidence -> 1.0, sentence -> 0], []], [token, 4, 4, :, [confidence -> 0.0... \n",
            " stems     | [[token, 0, 3, path, [confidence -> 1.0, sentence -> 0], []], [token, 4, 4, :, [confidence -> 0.0... \n",
            " pos       | [[pos, 0, 3, NNP, [word -> Path], []], [pos, 4, 4, :, [word -> :], []], [pos, 6, 207, NN, [word -... \n",
            "-RECORD 1---------------------------------------------------------------------------------------------------------\n",
            " filename  | file:/content/data/mini_newsgroups/sci.crypt/15371                                                   \n",
            " text      | Newsgroups: sci.crypt\n",
            "Path: cantaloupe.srv.cs.cmu.edu!das-news.harvard.edu!noc.near.net!howland.r... \n",
            " newsgroup | sci.crypt                                                                                            \n",
            " document  | [[document, 0, 1064, Newsgroups: sci.crypt\n",
            "Path: cantaloupe.srv.cs.cmu.edu!das-news.harvard.edu!n... \n",
            " sentence  | [[document, 0, 684, Newsgroups: sci.crypt\n",
            "Path: cantaloupe.srv.cs.cmu.edu!das-news.harvard.edu!no... \n",
            " token     | [[token, 0, 9, Newsgroups, [sentence -> 0], []], [token, 10, 10, :, [sentence -> 0], []], [token,... \n",
            " spell     | [[token, 0, 9, Newsgroups, [confidence -> 0.0, sentence -> 0], []], [token, 10, 10, :, [confidenc... \n",
            " lemmas    | [[token, 0, 9, Newsgroups, [confidence -> 0.0, sentence -> 0], []], [token, 10, 10, :, [confidenc... \n",
            " stems     | [[token, 0, 9, newsgroup, [confidence -> 0.0, sentence -> 0], []], [token, 10, 10, :, [confidence... \n",
            " pos       | [[pos, 0, 9, NNP, [word -> Newsgroups], []], [pos, 10, 10, :, [word -> :], []], [pos, 12, 20, NN,... \n",
            "only showing top 2 rows\n",
            "\n"
          ],
          "name": "stdout"
        }
      ]
    },
    {
      "cell_type": "markdown",
      "metadata": {
        "id": "ZQlh5f33wyeN"
      },
      "source": [
        "<p>Better, but this is still not useful for getting a general understanding of our corpus. We at least have a glimpse of what our pipeline is doing.</p>\n",
        "\n",
        "<p>Now, we need to pull out the information we might want to use in other process, that is why there is the&nbsp;<code>Finisher</code>&nbsp;<code>Transformer</code>. The&nbsp;<code>Finisher</code>&nbsp;takes annotations and pulls out the pieces of data that we will be using in downstream processes. This allows us to use the results of our NLP pipeline in generic Spark. For now, let's pull out all the lemmas and put them into a&nbsp;<code>String</code>&nbsp;seperated by spaces.</p>"
      ]
    },
    {
      "cell_type": "code",
      "metadata": {
        "colab": {
          "base_uri": "https://localhost:8080/"
        },
        "id": "0kfj966Jww3x",
        "outputId": "6a879c82-d44e-4a87-fb86-c862088ace07"
      },
      "source": [
        "from sparknlp import Finisher\n",
        "finisher = Finisher()\n",
        "finisher = finisher\n",
        "# taking the lemma column\n",
        "finisher = finisher.setInputCols(['lemmas'])\n",
        "# seperating lemmas by a single space\n",
        "finisher = finisher.setAnnotationSplitSymbol(' ')\n",
        "finished_texts_df = finisher.transform(procd_texts_df)\n",
        "finished_texts_df.show(n=1, truncate=100, vertical=True)"
      ],
      "execution_count": 23,
      "outputs": [
        {
          "output_type": "stream",
          "text": [
            "-RECORD 0---------------------------------------------------------------------------------------------------------------\n",
            " filename        | file:/content/data/mini_newsgroups/sci.crypt/15648                                                   \n",
            " text            | Path: cantaloupe.srv.cs.cmu.edu!magnesium.club.cc.cmu.edu!news.sei.cmu.edu!cis.ohio-state.edu!zap... \n",
            " newsgroup       | sci.crypt                                                                                            \n",
            " finished_lemmas | [Path, :, cantaloupe.srv.cs.cmu.edu!magnesium.club.cc.cmu.edu!news.sei.cmu.edu!cis.ohio-state.edu... \n",
            "only showing top 1 row\n",
            "\n"
          ],
          "name": "stdout"
        }
      ]
    },
    {
      "cell_type": "markdown",
      "metadata": {
        "id": "vpa9aXT4w2xU"
      },
      "source": [
        "<p>Normally, we'll be using the&nbsp;<code>.setOutputAsArray(True)</code>&nbsp;option so that the output is an&nbsp;<code>Array</code>instead of a&nbsp;<code>String</code>.</p>\n",
        "\n",
        "<p>Let's look at the final result on the first document.</p>"
      ]
    },
    {
      "cell_type": "code",
      "metadata": {
        "colab": {
          "base_uri": "https://localhost:8080/"
        },
        "id": "8IQSc5hRw1Op",
        "outputId": "61cf6431-9976-4eb0-f8ce-e2f69d2f409e"
      },
      "source": [
        "finished_texts_df.select('finished_lemmas').take(1)"
      ],
      "execution_count": 24,
      "outputs": [
        {
          "output_type": "execute_result",
          "data": {
            "text/plain": [
              "[Row(finished_lemmas=['Path', ':', 'cantaloupe.srv.cs.cmu.edu!magnesium.club.cc.cmu.edu!news.sei.cmu.edu!cis.ohio-state.edu!zaphod.mps.ohio-state.edu!howland.reston.ans.net!usc!news.service.uci.edu!beckman.com!dsg4.dse.beckman.com!a_rubin', 'Newsgroups', ':', 'sci.crypt', 'Subject', ':', 'Re', ':', 'screw', 'the', 'people', ',', 'crypto', 'be', 'for', 'hard-core', 'hacker', '&', 'spook', 'only', 'Message-ID', ':', '<a_rubin.735432140@dsg4.dse.beckman.com>', 'From', ':', 'a_rubin@dsg4.dse.beckman.com', '(', 'Arthur', 'Rubin', ')', 'Date', ':', '21', 'Apr', '93', '22:42:20', 'GMT', 'References', ':', '<19930419.155204.305@almaden.ibm.com>', '<1r0ausINNi01@senator-bedfellow.MIT.EDU>', '<1993Apr20.145338.14804@shearson.com>', '<1r47l1INN8gq@senator-bedfellow.MIT.EDU>', 'Organization', ':', 'Beckman', 'Instruments', ',', 'Inc', '.', 'Nntp-Posting-Host', ':', 'dsg4.dse.beckman.com', 'Lines', ':', '24', 'In', '<1r47l1INN8gq@senator-bedfellow.MIT.EDU>', 'jfc@athena.mit.edu', '(', 'John', 'F', 'Carr', ')', 'write', ':', '>In', 'most', 'case', 'information', 'you', 'come', 'by', 'properly', 'be', 'yours', 'to', 'use', 'as', 'you', 'wish', ',', 'abut', 'there', 'be', 'certainly', 'exception', '.', 'If', 'you', 'write', 'a', 'paper', 'which', 'include', 'sufficiently', 'detail', 'information', 'on', 'how', 'to', 'build', 'a', 'nuclear', 'weapon', ',', 'it', 'be', 'classify', '.', 'As', 'I', 'understand', 'the', 'law', ',', 'nuclear', 'weapon', 'design', 'be', '>_automatically_', 'classify', 'even', 'if', 'you', 'do', 'the', 'work', 'yourself', '.', 'I', 'believe', 'you', 'care', 'then', 'not', 'allow', 'to', 'read', 'you', 'own', 'paper', '.', 'This', 'have', 'now', 'be', 'throw', 'out', 'by', 'the', 'court', '.', '(', 'The', '\"', 'Progressive', '\"', 'case', '.', ')', '>A', 'less', 'serious', 'example', ':', 'if', 'you', 'tell', 'driver', 'about', 'a', 'speed', 'trap', 'they', 'be', 'about', 'to', 'run', 'into', ',', 'you', 'can', 'be', 'fine', ',', 'even', 'though', 'you', 'might', 'argue', 'that', 'you', 'break', 'no', 'law', 'when', 'you', 'discover', 'the', 'location', 'of', 'the', 'policeman', '.', 'The', 'charge', '>is', 'interfere', 'with', 'a', 'police', 'officer', ',', 'which', 'be', 'quite', 'similar', 'what', 'you', 'would', '>be', 'do', 'by', 'reverse', 'engineering', 'the', 'Clipper', 'chip', '.', 'This', 'be', 'outright', 'illegal', '.', 'It', 'DOE', 'violate', 'the', 'first', 'amendment', '.', 'If', 'you', 'would', ',', 'give', 'a', 'case', 'in', 'which', 'you', '\"', 'speed', 'trap', '\"', 'example', 'have', 'be', 'upheld', 'by', 'the', 'court', '.', '--', 'Arthur', 'L', '.', 'Rubin', ':', 'a_rubin@dsg4.dse.beckman.com', '(', 'work', ')', 'Beckman', 'Instruments/Brea', '216-5888@mcimail.com', '70707.453@compuserve.com', 'arthur@pnet01.cts.com', '(', 'personal', ')', 'My', 'opinion', 'be', 'i', 'own', ',', 'and', 'do', 'not', 'represent', 'those', 'of', 'i', 'employer', '.'])]"
            ]
          },
          "metadata": {
            "tags": []
          },
          "execution_count": 24
        }
      ]
    },
    {
      "cell_type": "markdown",
      "metadata": {
        "id": "SNG2mFVSyB28"
      },
      "source": [
        "<p>It doesn't look like much has been done here, but there is still a lot to unpack. In the next chapter, we will explain some basics of linguistics that will help us understand what these annotators are doing.<a contenteditable=\"false\" data-primary=\"\" data-startref=\"1.1_Getting_Started.html4\" data-type=\"indexterm\">&nbsp;</a><a contenteditable=\"false\" data-primary=\"deployment in production environment\" data-see=\"productionizing NLP applications\" data-type=\"indexterm\">&nbsp;</a><a contenteditable=\"false\" data-primary=\"emotion detection\" data-see=\"sentiment analysis and emotion detection\" data-type=\"indexterm\">&nbsp;</a><a contenteditable=\"false\" data-primary=\"Keras\" data-see=\"sequence modeling with Keras\" data-type=\"indexterm\">&nbsp;</a><a contenteditable=\"false\" data-primary=\"labeling, human\" data-see=\"human labeling\" data-type=\"indexterm\">&nbsp;</a><a contenteditable=\"false\" data-primary=\"libraries\" data-see=\"specific libraries\" data-type=\"indexterm\">&nbsp;</a><a contenteditable=\"false\" data-primary=\"natural language processing (NLP) basics\" data-secondary=\"libraries\" data-see=\"NLP libraries\" data-type=\"indexterm\">&nbsp;</a><a contenteditable=\"false\" data-primary=\"paragraph2vec\" data-see=\"doc2vec\" data-type=\"indexterm\">&nbsp;</a><a contenteditable=\"false\" data-primary=\"publishing\" data-see=\"productionizing NLP applications\" data-type=\"indexterm\">&nbsp;</a><a contenteditable=\"false\" data-primary=\"shingles\" data-see=\"N-grams\" data-type=\"indexterm\">&nbsp;</a><a contenteditable=\"false\" data-primary=\"Spark\" data-see=\"Apache Spark\" data-type=\"indexterm\">&nbsp;</a><a contenteditable=\"false\" data-primary=\"Spark MLlib\" data-see=\"MLlib\" data-type=\"indexterm\">&nbsp;</a><a contenteditable=\"false\" data-primary=\"text\" data-see=\"human labeling; object character recognition\" data-type=\"indexterm\">&nbsp;</a><a contenteditable=\"false\" data-primary=\"wikis\" data-see=\"knowledge bases\" data-type=\"indexterm\">&nbsp;</a><a contenteditable=\"false\" data-primary=\"CNNs\" data-see=\"convolutional neural networks\" data-type=\"indexterm\">&nbsp;</a><a contenteditable=\"false\" data-primary=\"RNNs\" data-see=\"recurrent neural networks\" data-type=\"indexterm\">&nbsp;</a></p>"
      ]
    },
    {
      "cell_type": "code",
      "metadata": {
        "id": "VdoziPqf0qXf"
      },
      "source": [
        ""
      ],
      "execution_count": null,
      "outputs": []
    }
  ]
}