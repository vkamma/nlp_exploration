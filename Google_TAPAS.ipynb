{
  "nbformat": 4,
  "nbformat_minor": 0,
  "metadata": {
    "colab": {
      "name": "Google_TAPAS.ipynb",
      "provenance": [],
      "authorship_tag": "ABX9TyMcpCGCaQy7ijbNABf80PYN",
      "include_colab_link": true
    },
    "kernelspec": {
      "name": "python3",
      "display_name": "Python 3"
    },
    "language_info": {
      "name": "python"
    }
  },
  "cells": [
    {
      "cell_type": "markdown",
      "metadata": {
        "id": "view-in-github",
        "colab_type": "text"
      },
      "source": [
        "<a href=\"https://colab.research.google.com/github/vkamma/nlp_exploration/blob/main/Google_TAPAS.ipynb\" target=\"_parent\"><img src=\"https://colab.research.google.com/assets/colab-badge.svg\" alt=\"Open In Colab\"/></a>"
      ]
    },
    {
      "cell_type": "code",
      "metadata": {
        "id": "chRU2L-Dfmln"
      },
      "source": [
        "# !pip install torch-scatter -f https://pytorch-geometric.com/whl/torch-1.9.0+$cu102.html"
      ],
      "execution_count": 30,
      "outputs": []
    },
    {
      "cell_type": "code",
      "metadata": {
        "id": "caExe4dhRWNe"
      },
      "source": [
        "# from transformers import TapasConfig, TapasForQuestionAnswering\n",
        "\n",
        "# for example, the base sized model with default SQA configuration\n",
        "# model = TapasForQuestionAnswering.from_pretrained('google/tapas-base')\n",
        "\n",
        "# or, the base sized model with WTQ configuration\n",
        "# config = TapasConfig.from_pretrained('google/tapas-base-finetuned-wtq')\n",
        "# model = TapasForQuestionAnswering.from_pretrained('google/tapas-base', config=config)\n",
        "\n",
        "# or, the base sized model with WikiSQL configuration\n",
        "# config = TapasConfig('google-base-finetuned-wikisql-supervised')\n",
        "# model = TapasForQuestionAnswering.from_pretrained('google/tapas-base', config=config)"
      ],
      "execution_count": 31,
      "outputs": []
    },
    {
      "cell_type": "code",
      "metadata": {
        "id": "kQk03uWngD32"
      },
      "source": [
        "from transformers import TapasTokenizer, TapasForQuestionAnswering\n",
        "import pandas as pd"
      ],
      "execution_count": 32,
      "outputs": []
    },
    {
      "cell_type": "code",
      "metadata": {
        "id": "ORm981Sywe4s"
      },
      "source": [
        "tokenizer = TapasTokenizer.from_pretrained('google/tapas-base-finetuned-wtq')\n",
        "model = TapasForQuestionAnswering.from_pretrained('google/tapas-base-finetuned-wtq')"
      ],
      "execution_count": 33,
      "outputs": []
    },
    {
      "cell_type": "code",
      "metadata": {
        "id": "8UdiMQTYw9Yc"
      },
      "source": [
        "data = {'Actors': [\"Brad Pitt\", \"Leonardo Di Caprio\", \"George Clooney\"],\n",
        "        'Age': [\"56\", \"45\", \"59\"],\n",
        "        'Number of movies': [\"87\", \"53\", \"69\"]\n",
        "}\n",
        "table = pd.DataFrame.from_dict(data)"
      ],
      "execution_count": 34,
      "outputs": []
    },
    {
      "cell_type": "code",
      "metadata": {
        "id": "cUQ6CKYM8z9I"
      },
      "source": [
        "queries = [\"What is the name of the first actor?\", \n",
        "           \"How many movies has George Clooney played in?\", \n",
        "           \"What is the total number of movies?\",\n",
        "           ]"
      ],
      "execution_count": 35,
      "outputs": []
    },
    {
      "cell_type": "code",
      "metadata": {
        "id": "X6R6tA5j6mqB"
      },
      "source": [
        "inputs = tokenizer(table=table, queries=queries, padding=\"max_length\", return_tensors=\"pt\")\n",
        "outputs = model(**inputs)\n",
        "\n",
        "predicted_answer_coordinates, predicted_aggregation_indices = tokenizer.convert_logits_to_predictions(inputs,\n",
        "                                                                                                      outputs.logits.detach(),\n",
        "                                                                                                      outputs.logits_aggregation.detach()\n",
        "                                                                                                      )"
      ],
      "execution_count": 36,
      "outputs": []
    },
    {
      "cell_type": "code",
      "metadata": {
        "id": "dB_uk8TM6_iG"
      },
      "source": [
        "id2aggregation = {0: \"NONE\", 1: \"SUM\", 2: \"AVERAGE\", 3:\"COUNT\"}\n",
        "aggregation_predictions_string = [id2aggregation[x] for x in predicted_aggregation_indices]"
      ],
      "execution_count": 37,
      "outputs": []
    },
    {
      "cell_type": "code",
      "metadata": {
        "id": "CsGLtZyh7Fjr"
      },
      "source": [
        "answers = []\n",
        "for coordinates in predicted_answer_coordinates:\n",
        "  if len(coordinates) == 1:\n",
        "    # only a single cell:\n",
        "    answers.append(table.iat[coordinates[0]])\n",
        "  else:\n",
        "    # multiple cells\n",
        "    cell_values = []\n",
        "    for coordinate in coordinates:\n",
        "      cell_values.append(table.iat[coordinate])\n",
        "    answers.append(\", \".join(cell_values))"
      ],
      "execution_count": 38,
      "outputs": []
    },
    {
      "cell_type": "code",
      "metadata": {
        "colab": {
          "base_uri": "https://localhost:8080/",
          "height": 142
        },
        "id": "I7jE3iwk7I5K",
        "outputId": "4fef98ae-ee33-4e06-d2dd-1046e679ef70"
      },
      "source": [
        "display(table)"
      ],
      "execution_count": 39,
      "outputs": [
        {
          "output_type": "display_data",
          "data": {
            "text/html": [
              "<div>\n",
              "<style scoped>\n",
              "    .dataframe tbody tr th:only-of-type {\n",
              "        vertical-align: middle;\n",
              "    }\n",
              "\n",
              "    .dataframe tbody tr th {\n",
              "        vertical-align: top;\n",
              "    }\n",
              "\n",
              "    .dataframe thead th {\n",
              "        text-align: right;\n",
              "    }\n",
              "</style>\n",
              "<table border=\"1\" class=\"dataframe\">\n",
              "  <thead>\n",
              "    <tr style=\"text-align: right;\">\n",
              "      <th></th>\n",
              "      <th>Actors</th>\n",
              "      <th>Age</th>\n",
              "      <th>Number of movies</th>\n",
              "    </tr>\n",
              "  </thead>\n",
              "  <tbody>\n",
              "    <tr>\n",
              "      <th>0</th>\n",
              "      <td>Brad Pitt</td>\n",
              "      <td>56</td>\n",
              "      <td>87</td>\n",
              "    </tr>\n",
              "    <tr>\n",
              "      <th>1</th>\n",
              "      <td>Leonardo Di Caprio</td>\n",
              "      <td>45</td>\n",
              "      <td>53</td>\n",
              "    </tr>\n",
              "    <tr>\n",
              "      <th>2</th>\n",
              "      <td>George Clooney</td>\n",
              "      <td>59</td>\n",
              "      <td>69</td>\n",
              "    </tr>\n",
              "  </tbody>\n",
              "</table>\n",
              "</div>"
            ],
            "text/plain": [
              "               Actors Age Number of movies\n",
              "0           Brad Pitt  56               87\n",
              "1  Leonardo Di Caprio  45               53\n",
              "2      George Clooney  59               69"
            ]
          },
          "metadata": {
            "tags": []
          }
        }
      ]
    },
    {
      "cell_type": "code",
      "metadata": {
        "colab": {
          "base_uri": "https://localhost:8080/"
        },
        "id": "UxRz2-ji7LYi",
        "outputId": "6d9035e5-2c1f-4739-b773-b4eac9a9f6d3"
      },
      "source": [
        "print()\n",
        "for query, answer, predicted_agg in zip(queries, answers, aggregation_predictions_string):\n",
        "  print(query)\n",
        "  if predicted_agg == \"NONE\":\n",
        "    print(\"Predicted answer: \" + answer)\n",
        "  else:\n",
        "    print(\"Predicted answer: \" + predicted_agg + \" > \" + answer)"
      ],
      "execution_count": 40,
      "outputs": [
        {
          "output_type": "stream",
          "text": [
            "\n",
            "What is the name of the first actor?\n",
            "Predicted answer: Brad Pitt\n",
            "How many movies has George Clooney played in?\n",
            "Predicted answer: COUNT > 69\n",
            "What is the total number of movies?\n",
            "Predicted answer: COUNT > 87, 53, 69\n"
          ],
          "name": "stdout"
        }
      ]
    },
    {
      "cell_type": "code",
      "metadata": {
        "id": "6XW7YGCx9Dw4"
      },
      "source": [
        ""
      ],
      "execution_count": 40,
      "outputs": []
    }
  ]
}